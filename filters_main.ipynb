{
 "cells": [
  {
   "cell_type": "code",
   "execution_count": 3,
   "metadata": {},
   "outputs": [],
   "source": [
    "#IMPORTING LIBRARIES\n",
    "import pandas as pd\n",
    "import cv2\n",
    "import numpy as np\n",
    "import tensorflow as tf\n",
    "import keras\n",
    "from keras.layers import Conv2D,Activation,Dense,Input, MaxPooling2D , ZeroPadding2D,Flatten\n",
    "from keras.models import Model, load_model,Sequential\n",
    "from math import hypot "
   ]
  },
  {
   "cell_type": "code",
   "execution_count": 4,
   "metadata": {},
   "outputs": [
    {
     "name": "stderr",
     "output_type": "stream",
     "text": [
      "2021-12-11 22:41:31.926854: I tensorflow/core/platform/cpu_feature_guard.cc:142] This TensorFlow binary is optimized with oneAPI Deep Neural Network Library (oneDNN) to use the following CPU instructions in performance-critical operations:  SSE4.1 SSE4.2 AVX AVX2 AVX512F FMA\n",
      "To enable them in other operations, rebuild TensorFlow with the appropriate compiler flags.\n",
      "2021-12-11 22:41:31.927231: I tensorflow/core/common_runtime/process_util.cc:146] Creating new thread pool with default inter op setting: 2. Tune using inter_op_parallelism_threads for best performance.\n"
     ]
    }
   ],
   "source": [
    "new_model=load_model('/home/aftab/minor_project/Snapchat-Filter-using-Transfer-Learning/face_model_pre_block8.h5')"
   ]
  },
  {
   "cell_type": "markdown",
   "metadata": {},
   "source": [
    "GLASSES"
   ]
  },
  {
   "cell_type": "code",
   "execution_count": 5,
   "metadata": {},
   "outputs": [],
   "source": [
    "def glasses():\n",
    "\n",
    "    while True:\n",
    "        check,frame=vid.read()\n",
    "        img=cv2.resize(frame,(200,200))\n",
    "        img1 =img/255\n",
    "        grey=cv2.cvtColor(img,cv2.COLOR_BGR2GRAY)\n",
    "        faces=face_cascade.detectMultiScale(grey,scaleFactor=1.05,minNeighbors=5)\n",
    "        if len(faces)>0:\n",
    "            #img = flower_crown(img1,img)\n",
    "            #img = glasses(img1,img)\n",
    "    \n",
    "            img1 = np.reshape(img1,[1,200,200,3])\n",
    "\n",
    "            h=new_model.predict(img1)\n",
    "            h=h.round()\n",
    "            h=h.astype(int)\n",
    "            x=np.where( h[:,0:194]>=200,199, h[:,0:194])\n",
    "            y=np.where( h[:,194:]>=200,199, h[:,194:])\n",
    "            img = np.reshape(img,[200,200,3])\n",
    "            #for i in range(0,194):\n",
    "             #   img[y[:,i],x[:,i],:]=255\n",
    "            img = cv2.resize(img,(500,500))\n",
    "\n",
    "            glass = cv2.imread('glass3.PNG')\n",
    "            eye_left= np.array((x[:,145],y[:,145]))*2.5\n",
    "            eye_right= np.array((x[:,125],y[:,125]))*2.5\n",
    "            eye_width= int(hypot(int(eye_left[0]) - int(eye_right[0]) , int(eye_left[1]) - int(eye_right[1]))*1.7)\n",
    "            eye_height = int(eye_width*(glass.shape[0]/glass.shape[1]))\n",
    "            glass= cv2.resize(glass,(eye_width,eye_height))\n",
    "\n",
    "            #glass1 =np.where(glass>200,0,glass)\n",
    "            eye_center = (eye_right + eye_left)/2\n",
    "            top_left = (int(eye_center[0]-eye_width/2),int(eye_center[1]-eye_height/2))\n",
    "            bottom_right = eye_center[0]+eye_width/2,eye_center[1]+eye_height/2\n",
    "\n",
    "            frame= img[ top_left[1]:top_left[1]+eye_height,top_left[0]: top_left[0]+ eye_width]\n",
    "            glass_gray = cv2.cvtColor(glass,cv2.COLOR_BGR2GRAY)\n",
    "            a,mask=cv2.threshold(glass_gray,10,255,cv2.THRESH_BINARY_INV)\n",
    "\n",
    "            extra_area= cv2.bitwise_and(frame,frame,mask=mask)\n",
    "            final_glass = cv2.add(extra_area,glass)\n",
    "\n",
    "            img[ top_left[1]:top_left[1]+eye_height,top_left[0]: top_left[0]+ eye_width]= final_glass\n",
    "\n",
    "    \n",
    "    \n",
    "        img =cv2.resize(img,(500,500))\n",
    "        cv2.imshow(\"a\",img)\n",
    "        key=cv2.waitKey(1)\n",
    "        if (key==ord('q')):\n",
    "            break;\n",
    "    \n",
    "  #  return img\n",
    "\n",
    "    "
   ]
  },
  {
   "cell_type": "code",
   "execution_count": 6,
   "metadata": {},
   "outputs": [],
   "source": [
    "def flower_crown():\n",
    "\n",
    "    while True:\n",
    "        check,frame=vid.read()\n",
    "        img=cv2.resize(frame,(200,200))\n",
    "        img1 =img/255\n",
    "        grey=cv2.cvtColor(img,cv2.COLOR_BGR2GRAY)\n",
    "        faces=face_cascade.detectMultiScale(grey,scaleFactor=1.05,minNeighbors=5)\n",
    "        if len(faces)>0:\n",
    "    \n",
    "            img1 = np.reshape(img1,[1,200,200,3])\n",
    "\n",
    "            h=new_model.predict(img1)\n",
    "            h=h.round()\n",
    "            h=h.astype(int)\n",
    "            x=np.where( h[:,0:194]>=200,199, h[:,0:194])\n",
    "            y=np.where( h[:,194:]>=200,199, h[:,194:])\n",
    "            img = np.reshape(img,[200,200,3])\n",
    "            #for i in range(0,194):\n",
    "             #   img[y[:,i],x[:,i],:]=255\n",
    "            img = cv2.resize(img,(500,500))\n",
    "\n",
    "            glass = cv2.imread('original.jpg')\n",
    "            eye_left= np.array((x[:,145],y[:,145]))*2.5\n",
    "            eye_right= np.array((x[:,125],y[:,125]))*2.5\n",
    "            eye_width= int(hypot(int(eye_left[0]) - int(eye_right[0]) , int(eye_left[1]) - int(eye_right[1]))*2.3)\n",
    "            eye_height = int(eye_width*(glass.shape[0]/glass.shape[1]))\n",
    "            glass= cv2.resize(glass,(eye_width,eye_height))\n",
    "\n",
    "            #glass1 =np.where(glass>200,0,glass)\n",
    "            eye_center = (eye_right + eye_left)/2\n",
    "            top_left = np.array((int(eye_center[0]-eye_width/2),int(eye_center[1]-eye_height/2)-125))\n",
    "            top_left = np.where(top_left<=0,0,top_left)\n",
    "            bottom_right = eye_center[0]+eye_width/2,eye_center[1]+eye_height/2\n",
    "\n",
    "            frame= img[ top_left[1]:top_left[1]+eye_height,top_left[0]: top_left[0]+ eye_width]\n",
    "            glass_gray = cv2.cvtColor(glass,cv2.COLOR_BGR2GRAY)\n",
    "            a,mask=cv2.threshold(glass_gray,10,255,cv2.THRESH_BINARY_INV)\n",
    "\n",
    "            extra_area= cv2.bitwise_and(frame,frame,mask=mask)\n",
    "            final_glass = cv2.add(extra_area,glass)\n",
    "\n",
    "            img[ top_left[1]:top_left[1]+eye_height,top_left[0]: top_left[0]+ eye_width]= final_glass\n",
    "\n",
    "    \n",
    "    \n",
    "        img =cv2.resize(img,(500,500))\n",
    "        cv2.imshow(\"a\",img)\n",
    "        key=cv2.waitKey(1)\n",
    "        if (key==ord('q')):\n",
    "            break;\n",
    "    \n",
    "  #  return img\n",
    "\n",
    "    "
   ]
  },
  {
   "cell_type": "code",
   "execution_count": null,
   "metadata": {},
   "outputs": [],
   "source": [
    "face_cascade = cv2.CascadeClassifier('C:\\\\Users\\\\YASH\\\\Anaconda3\\\\Lib\\\\site-packages\\\\cv2\\\\data\\\\haarcascade_frontalface_default.xml')\n",
    "vid=cv2.VideoCapture(0)\n",
    "\n",
    "while True:\n",
    "    check,frame=vid.read()\n",
    "    '''\n",
    "    img=cv2.resize(frame,(200,200))\n",
    "    img1 =img/255\n",
    "    grey=cv2.cvtColor(img,cv2.COLOR_BGR2GRAY)\n",
    "    faces=face_cascade.detectMultiScale(grey,scaleFactor=1.05,minNeighbors=5)\n",
    "    if len(faces)>0:\n",
    "        #img = flower_crown(img1,img)\n",
    "        img = glasses(img1,img)\n",
    "    ''' \n",
    "#     print(np.shape(frame))\n",
    "    img =cv2.resize(frame,(500,500))\n",
    "    cv2.imshow(\"a\",img)\n",
    "    \n",
    "    \n",
    "    key=cv2.waitKey(1)\n",
    "    if (key==ord('a')):\n",
    "        glasses();\n",
    "        \n",
    "    if (key==ord('b')):\n",
    "        flower_crown();\n",
    "        \n",
    "    if (key==ord('c')):\n",
    "        break;\n",
    "        \n",
    "        \n",
    "vid.release()\n",
    "cv2.destroyAllWindows()"
   ]
  },
  {
   "cell_type": "code",
   "execution_count": null,
   "metadata": {},
   "outputs": [],
   "source": [
    "vid.release()"
   ]
  },
  {
   "cell_type": "code",
   "execution_count": null,
   "metadata": {},
   "outputs": [],
   "source": [
    "cv2.destroyAllWindows()"
   ]
  },
  {
   "cell_type": "code",
   "execution_count": null,
   "metadata": {},
   "outputs": [],
   "source": [
    "glass = cv2.imread('C:\\\\Users\\\\YASH\\\\Desktop\\\\original.jpg')\n",
    "glass= cv2.resize(glass,(100,100))"
   ]
  },
  {
   "cell_type": "code",
   "execution_count": null,
   "metadata": {},
   "outputs": [],
   "source": [
    "np.unique(glass)"
   ]
  },
  {
   "cell_type": "code",
   "execution_count": null,
   "metadata": {},
   "outputs": [],
   "source": [
    "cv2.imshow('gh',glass)\n",
    "cv2.waitKey(5000)\n",
    "cv2.destroyAllWindows()"
   ]
  },
  {
   "cell_type": "code",
   "execution_count": null,
   "metadata": {},
   "outputs": [],
   "source": []
  },
  {
   "cell_type": "code",
   "execution_count": null,
   "metadata": {},
   "outputs": [],
   "source": [
    "'''\n",
    "def flower_crown():\n",
    "    img1 = np.reshape(img1,[1,200,200,3])\n",
    "    h=new_model.predict(img1)\n",
    "    h=h.round()\n",
    "    h=h.astype(int)\n",
    "    x=np.where( h[:,0:194]>=200,199, h[:,0:194])\n",
    "    y=np.where( h[:,194:]>=200,199, h[:,194:])\n",
    "    img = np.reshape(img,[200,200,3])\n",
    "    img = cv2.resize(img,(500,500))\n",
    "    #for i in range(0,194):\n",
    "    #    img[y[:,i],x[:,i],:]=255\n",
    "    \n",
    "    glass = cv2.imread('C:\\\\Users\\\\YASH\\\\Desktop\\\\original.jpg')\n",
    "    eye_left= np.array((x[:,145],y[:,145]))*2.5\n",
    "    eye_right= np.array((x[:,125],y[:,125]))*2.5\n",
    "    eye_width= (int(hypot(int(eye_left[0]) - int(eye_right[0]) , int(eye_left[1]) - int(eye_right[1]))*2.3))\n",
    "    eye_height = int(eye_width*(glass.shape[0]/glass.shape[1]))\n",
    "    glass= cv2.resize(glass,(eye_width,eye_height))\n",
    "    \n",
    "    #glass1 =np.where(glass>200,0,glass)\n",
    "    eye_center = (eye_right + eye_left)/2\n",
    "    top_left = (int(eye_center[0]-eye_width/2),int(eye_center[1]-eye_height/2)-125)\n",
    "    bottom_right = eye_center[0]+eye_width/2,eye_center[1]+eye_height/2\n",
    "\n",
    "    frame= img[ top_left[1]:top_left[1]+eye_height,top_left[0]: top_left[0]+ eye_width]\n",
    "    glass_gray = cv2.cvtColor(glass,cv2.COLOR_BGR2GRAY)\n",
    "    a,mask=cv2.threshold(glass_gray,10,255,cv2.THRESH_BINARY_INV)\n",
    "\n",
    "    extra_area= cv2.bitwise_and(frame,frame,mask=mask)\n",
    "    final_glass = cv2.add(extra_area,glass)\n",
    "\n",
    "    img[ top_left[1]:top_left[1]+eye_height,top_left[0]: top_left[0]+ eye_width]= final_glass\n",
    "    \n",
    "    return img\n",
    "\n",
    " '''   "
   ]
  },
  {
   "cell_type": "code",
   "execution_count": null,
   "metadata": {},
   "outputs": [],
   "source": []
  },
  {
   "cell_type": "code",
   "execution_count": null,
   "metadata": {},
   "outputs": [],
   "source": []
  }
 ],
 "metadata": {
  "kernelspec": {
   "display_name": "Python 3 (ipykernel)",
   "language": "python",
   "name": "python3"
  },
  "language_info": {
   "codemirror_mode": {
    "name": "ipython",
    "version": 3
   },
   "file_extension": ".py",
   "mimetype": "text/x-python",
   "name": "python",
   "nbconvert_exporter": "python",
   "pygments_lexer": "ipython3",
   "version": "3.7.11"
  }
 },
 "nbformat": 4,
 "nbformat_minor": 2
}
